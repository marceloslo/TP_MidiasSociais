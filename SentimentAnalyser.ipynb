{
 "cells": [
  {
   "cell_type": "code",
   "execution_count": 1,
   "id": "e0c94c17",
   "metadata": {},
   "outputs": [],
   "source": [
    "# from transformers import AutoModelForSequenceClassification\n",
    "# from transformers import TFAutoModelForSequenceClassification\n",
    "# from transformers import AutoTokenizer, AutoConfig\n",
    "import numpy as np\n",
    "# from scipy.special import softmax\n",
    "import json\n",
    "from tqdm import tqdm\n",
    "from vaderSentiment.vaderSentiment import SentimentIntensityAnalyzer\n",
    "\n",
    "# Preprocess text (username and link placeholders)\n",
    "def preprocess(text):\n",
    "    new_text = []\n",
    "    for t in text.split(\" \"):\n",
    "        t = '@user' if t.startswith('@') and len(t) > 1 else t\n",
    "        t = 'http' if t.startswith('http') else t\n",
    "        new_text.append(t)\n",
    "    return \" \".join(new_text)"
   ]
  },
  {
   "cell_type": "code",
   "execution_count": 5,
   "id": "a513bf92",
   "metadata": {},
   "outputs": [],
   "source": [
    "\n",
    "# MODEL = r\"cardiffnlp/twitter-xlm-roberta-base-sentiment\"\n",
    "\n",
    "# tokenizer = AutoTokenizer.from_pretrained(MODEL)\n",
    "# config = AutoConfig.from_pretrained(MODEL)\n",
    "\n",
    "# # # PT\n",
    "# model = AutoModelForSequenceClassification.from_pretrained(MODEL).to('cuda:0')\n",
    "model = SentimentIntensityAnalyzer()\n",
    "read_file= open('Data/complete_comments.jsonl',encoding='utf-8')\n",
    "write_file = open('Data/complete_comments_with_vader_2.jsonl','a',encoding='utf-8')\n",
    "\n",
    "buffer = []\n",
    "read_ids = set()"
   ]
  },
  {
   "cell_type": "code",
   "execution_count": 6,
   "id": "b37fac85",
   "metadata": {},
   "outputs": [],
   "source": [
    "with open('Data/complete_comments_with_vader_2.jsonl','r') as file:\n",
    "    for line in file:\n",
    "        line=json.loads(line)\n",
    "        read_ids.add(line['id'])"
   ]
  },
  {
   "cell_type": "code",
   "execution_count": 7,
   "id": "21b97c0b",
   "metadata": {},
   "outputs": [],
   "source": [
    "# try:\n",
    "#     for line in tqdm(read_file):\n",
    "#         line = json.loads(line)\n",
    "#         if line['id'] in read_ids:\n",
    "#             continue\n",
    "#         read_ids.add(line['id'])\n",
    "\n",
    "#         text = line['comment']\n",
    "#         text = preprocess(text)\n",
    "#         encoded_input = tokenizer(text, return_tensors='pt',truncation=True,max_length=512).to('cuda:0')\n",
    "#         output = model(**encoded_input)\n",
    "#         scores = output[0][0].cpu().detach().numpy()\n",
    "#         scores = softmax(scores)\n",
    "#         classification = {config.id2label[i]:float(scores[i]) for i in range(len(scores))}\n",
    "#         buffer.append({\n",
    "#             'id':line['id'],\n",
    "#             'userId':line['userId'],\n",
    "#             'videoId':line['videoId'],\n",
    "#             'classification':classification\n",
    "#         })\n",
    "#         if len(buffer)>=1000:\n",
    "#             for comment in buffer:\n",
    "#                 json.dump(comment,write_file,ensure_ascii=False)\n",
    "#                 write_file.write('\\n')\n",
    "#             buffer = []\n",
    "# except KeyboardInterrupt:\n",
    "#     write_file.close()\n",
    "#     read_file.close()"
   ]
  },
  {
   "cell_type": "code",
   "execution_count": null,
   "id": "83644095",
   "metadata": {},
   "outputs": [
    {
     "name": "stderr",
     "output_type": "stream",
     "text": [
      "25854096it [55:50, 5658.94it/s] "
     ]
    }
   ],
   "source": [
    "try:\n",
    "    for line in tqdm(read_file):\n",
    "        line = json.loads(line)\n",
    "        if line['id'] in read_ids:\n",
    "            continue\n",
    "        read_ids.add(line['id'])\n",
    "\n",
    "        text = line['comment']\n",
    "        scores = model.polarity_scores(text)\n",
    "        buffer.append({\n",
    "            'id':line['id'],\n",
    "            'userId':line['userId'],\n",
    "            'videoId':line['videoId'],\n",
    "            'category':line['category'],\n",
    "            'publishedAt':line['publishedAt'],\n",
    "            'classification':scores\n",
    "        })\n",
    "        if len(buffer)>=100000:\n",
    "            for comment in buffer:\n",
    "                json.dump(comment,write_file,ensure_ascii=False)\n",
    "                write_file.write('\\n')\n",
    "            buffer = []\n",
    "except KeyboardInterrupt:\n",
    "    write_file.close()\n",
    "    read_file.close()"
   ]
  },
  {
   "cell_type": "code",
   "execution_count": null,
   "id": "6b0f2e61",
   "metadata": {},
   "outputs": [],
   "source": [
    "write_file.close()\n",
    "read_file.close()"
   ]
  },
  {
   "cell_type": "code",
   "execution_count": null,
   "id": "dbf04d36",
   "metadata": {},
   "outputs": [],
   "source": []
  }
 ],
 "metadata": {
  "kernelspec": {
   "display_name": "Python 3 (ipykernel)",
   "language": "python",
   "name": "python3"
  },
  "language_info": {
   "codemirror_mode": {
    "name": "ipython",
    "version": 3
   },
   "file_extension": ".py",
   "mimetype": "text/x-python",
   "name": "python",
   "nbconvert_exporter": "python",
   "pygments_lexer": "ipython3",
   "version": "3.10.12"
  }
 },
 "nbformat": 4,
 "nbformat_minor": 5
}
